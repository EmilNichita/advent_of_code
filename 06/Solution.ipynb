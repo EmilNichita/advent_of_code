{
 "cells": [
  {
   "cell_type": "code",
   "execution_count": 1,
   "id": "2b112d17-63ef-4b41-b7c8-2b121ff7989c",
   "metadata": {},
   "outputs": [],
   "source": [
    "import os\n",
    "import re\n",
    "import json\n",
    "import pathlib\n",
    "from pathlib import Path\n",
    "import numpy as np\n",
    "import pandas as pd"
   ]
  },
  {
   "cell_type": "markdown",
   "id": "c6738d1f-aba0-4703-add3-2cab9f70e9a9",
   "metadata": {},
   "source": [
    "## Part 1"
   ]
  },
  {
   "cell_type": "code",
   "execution_count": 2,
   "id": "0a853723-0b4c-4e2a-897d-ce10cf9fd626",
   "metadata": {},
   "outputs": [],
   "source": [
    "cwd = Path.cwd()\n",
    "\n",
    "# read the input\n",
    "with open(cwd / \"input\" / \"input.txt\") as f:\n",
    "    s = f.read()\n",
    "\n",
    "# lines\n",
    "lines = s.split(\"\\n\")[:-1]\n",
    "array = np.array([list(x) for x in lines])\n",
    "\n",
    "# checked before, there are 130x130 lines, so we can use n for both\n",
    "n = len(array)\n",
    "\n",
    "# initial position for the guard\n",
    "for i in range(n):\n",
    "    for j in range(n):\n",
    "        if array[i][j] == \"^\":\n",
    "            init_guard_i, init_guard_j = i, j\n",
    "guard_i, guard_j = init_guard_i, init_guard_j"
   ]
  },
  {
   "cell_type": "code",
   "execution_count": 3,
   "id": "7b08e46f-9d21-48b2-b65f-be0a9b335b06",
   "metadata": {
    "scrolled": true
   },
   "outputs": [
    {
     "data": {
      "text/plain": [
       "5212"
      ]
     },
     "execution_count": 3,
     "metadata": {},
     "output_type": "execute_result"
    }
   ],
   "source": [
    "# move the guard until he leaves\n",
    "direction = \"North\"\n",
    "while guard_i >= 0 and guard_j >= 0 and guard_i < n and guard_j < n:\n",
    "    array[guard_i][guard_j] = 0\n",
    "    if direction == \"North\":\n",
    "        if guard_i > 0:\n",
    "            if array[guard_i-1][guard_j] == \"#\":\n",
    "                direction = \"East\"\n",
    "            else:\n",
    "                guard_i -= 1\n",
    "        else:\n",
    "            guard_i -= 1\n",
    "    elif direction == \"East\":\n",
    "        if guard_j < n-1:\n",
    "            if array[guard_i][guard_j+1] == \"#\":\n",
    "                direction = \"South\"\n",
    "            else:\n",
    "                guard_j += 1\n",
    "        else:\n",
    "            guard_j += 1\n",
    "    elif direction == \"South\":\n",
    "        if guard_i < n-1:\n",
    "            if array[guard_i+1][guard_j] == \"#\":\n",
    "                direction = \"West\"\n",
    "            else:\n",
    "                guard_i += 1\n",
    "        else:\n",
    "            guard_i += 1\n",
    "    else:\n",
    "        if guard_j > 0:\n",
    "            if array[guard_i][guard_j-1] == \"#\":\n",
    "                direction = \"North\"\n",
    "            else:\n",
    "                guard_j -= 1\n",
    "        else:\n",
    "            guard_j -= 1\n",
    "np.sum(array == '0')"
   ]
  },
  {
   "cell_type": "markdown",
   "id": "8271e305-f9f6-4dbe-87b3-7a8de83604c7",
   "metadata": {},
   "source": [
    "## Part 2"
   ]
  },
  {
   "cell_type": "code",
   "execution_count": 4,
   "id": "3f4fe384-5548-4e05-8fac-a0758dd2f33d",
   "metadata": {},
   "outputs": [
    {
     "data": {
      "text/plain": [
       "15"
      ]
     },
     "execution_count": 4,
     "metadata": {},
     "output_type": "execute_result"
    }
   ],
   "source": [
    "1 | 2 | 4 | 8"
   ]
  },
  {
   "cell_type": "code",
   "execution_count": 5,
   "id": "f4c64009-86d8-4536-899b-51daec10d420",
   "metadata": {},
   "outputs": [],
   "source": [
    "def guard_leaves(array: np.array, guard_i: int, guard_j: int) -> bool:\n",
    "    direction = \"North\"\n",
    "    move_counter = 0\n",
    "\n",
    "    while guard_i >= 0 and guard_j >= 0 and guard_i < n and guard_j < n:\n",
    "        if direction == \"North\":\n",
    "            if guard_i > 0:\n",
    "                if array[guard_i-1][guard_j] == \"#\":\n",
    "                    direction = \"East\"\n",
    "                else:\n",
    "                    guard_i -= 1\n",
    "            else:\n",
    "                guard_i -= 1\n",
    "        elif direction == \"East\":\n",
    "            if guard_j < n-1:\n",
    "                if array[guard_i][guard_j+1] == \"#\":\n",
    "                    direction = \"South\"\n",
    "                else:\n",
    "                    guard_j += 1\n",
    "            else:\n",
    "                guard_j += 1\n",
    "        elif direction == \"South\":\n",
    "            if guard_i < n-1:\n",
    "                if array[guard_i+1][guard_j] == \"#\":\n",
    "                    direction = \"West\"\n",
    "                else:\n",
    "                    guard_i += 1\n",
    "            else:\n",
    "                guard_i += 1\n",
    "        else:\n",
    "            if guard_j > 0:\n",
    "                if array[guard_i][guard_j-1] == \"#\":\n",
    "                    direction = \"North\"\n",
    "                else:\n",
    "                    guard_j -= 1\n",
    "            else:\n",
    "                guard_j -= 1\n",
    "\n",
    "        # we could track both positions we went through (and directions, otherwise we might not actually be in a loop)\n",
    "        # but what's faster to code is to just move until we've gone through more than you could through the whole map (plus maybe changing direction)\n",
    "        move_counter += 1\n",
    "        if move_counter == 130*130*2:\n",
    "            return False\n",
    "    return True"
   ]
  },
  {
   "cell_type": "code",
   "execution_count": 6,
   "id": "63a88bd0-8d11-4c34-9751-4cfcb44b8602",
   "metadata": {
    "scrolled": true
   },
   "outputs": [
    {
     "data": {
      "text/plain": [
       "1767"
      ]
     },
     "execution_count": 6,
     "metadata": {},
     "output_type": "execute_result"
    }
   ],
   "source": [
    "counter = 0\n",
    "\n",
    "# go through each possible place to put an obstacle in\n",
    "for i in range(n):\n",
    "    for j in range(n):\n",
    "        array = np.array([list(x) for x in lines])\n",
    "        if array[i][j] == \".\":\n",
    "            array[i][j] = \"#\"\n",
    "            if not guard_leaves(array, init_guard_i, init_guard_j):\n",
    "                counter += 1\n",
    "counter"
   ]
  },
  {
   "cell_type": "code",
   "execution_count": null,
   "id": "2820b2d6-e6de-4412-a63e-220ee782582d",
   "metadata": {},
   "outputs": [],
   "source": []
  }
 ],
 "metadata": {
  "kernelspec": {
   "display_name": "Python 3 (ipykernel)",
   "language": "python",
   "name": "python3"
  },
  "language_info": {
   "codemirror_mode": {
    "name": "ipython",
    "version": 3
   },
   "file_extension": ".py",
   "mimetype": "text/x-python",
   "name": "python",
   "nbconvert_exporter": "python",
   "pygments_lexer": "ipython3",
   "version": "3.11.5"
  }
 },
 "nbformat": 4,
 "nbformat_minor": 5
}
