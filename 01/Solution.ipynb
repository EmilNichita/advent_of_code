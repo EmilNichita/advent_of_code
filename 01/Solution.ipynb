{
 "cells": [
  {
   "cell_type": "code",
   "execution_count": 1,
   "id": "9f6a83ca-e4ec-4fc6-a12e-91ca94f9cdb4",
   "metadata": {},
   "outputs": [],
   "source": [
    "import os\n",
    "import json\n",
    "import pathlib\n",
    "from pathlib import Path\n",
    "import numpy as np\n",
    "import pandas as pd"
   ]
  },
  {
   "cell_type": "markdown",
   "id": "2db8ae2c-e25a-4ba9-b811-f85195e3acae",
   "metadata": {},
   "source": [
    "## Part 1"
   ]
  },
  {
   "cell_type": "code",
   "execution_count": 2,
   "id": "5c9a553a-7a84-4e9f-b757-945c5013b6ba",
   "metadata": {},
   "outputs": [
    {
     "data": {
      "text/plain": [
       "1151792"
      ]
     },
     "execution_count": 2,
     "metadata": {},
     "output_type": "execute_result"
    }
   ],
   "source": [
    "cwd = Path.cwd()\n",
    "\n",
    "# read the input\n",
    "with open(cwd / \"input\" / \"input.txt\") as f:\n",
    "    s = f.read()\n",
    "\n",
    "# split the input by lines, excluding the last empty one\n",
    "# each is if the form \"77317123       1873811312\"\n",
    "lines = s.split('\\n')[:-1]\n",
    "\n",
    "# convert lines to [\"77317123\", \"1873811312\"]\n",
    "pairs = [x.split() for x in lines]\n",
    "\n",
    "# generate the first and second list of indices\n",
    "a, b = [int(x[0]) for x in pairs], [int(x[1]) for x in pairs]\n",
    "a.sort(), b.sort()\n",
    "\n",
    "# compute the differences and add them together\n",
    "differences = [abs(x-y) for x, y in zip(a, b)]\n",
    "result = sum(differences)\n",
    "result"
   ]
  },
  {
   "cell_type": "markdown",
   "id": "719d6f43-ea9a-458f-8793-3a3a99253c9c",
   "metadata": {},
   "source": [
    "## Part 2"
   ]
  },
  {
   "cell_type": "code",
   "execution_count": 3,
   "id": "9fd7b8b8-9bcf-4d92-87b2-2909a19d1b90",
   "metadata": {},
   "outputs": [
    {
     "data": {
      "text/plain": [
       "21790168"
      ]
     },
     "execution_count": 3,
     "metadata": {},
     "output_type": "execute_result"
    }
   ],
   "source": [
    "# start with the sorted list of numbers, a and b, like above (sorting doesn't hurt)\n",
    "# generate a dictionary of occurences for b\n",
    "b_counter = {}\n",
    "for x in b:\n",
    "    if x in b_counter:\n",
    "        b_counter[x] += 1\n",
    "    else:\n",
    "        b_counter[x] = 1\n",
    "\n",
    "\n",
    "# compute the score as shown\n",
    "result = 0\n",
    "for x in a:\n",
    "    if x in b_counter:\n",
    "        result += x * b_counter[x]\n",
    "result"
   ]
  },
  {
   "cell_type": "code",
   "execution_count": null,
   "id": "1e039956-6803-4baf-9e5a-e66a967b9483",
   "metadata": {},
   "outputs": [],
   "source": []
  }
 ],
 "metadata": {
  "kernelspec": {
   "display_name": "p311",
   "language": "python",
   "name": "p311"
  },
  "language_info": {
   "codemirror_mode": {
    "name": "ipython",
    "version": 3
   },
   "file_extension": ".py",
   "mimetype": "text/x-python",
   "name": "python",
   "nbconvert_exporter": "python",
   "pygments_lexer": "ipython3",
   "version": "3.11.5"
  }
 },
 "nbformat": 4,
 "nbformat_minor": 5
}
