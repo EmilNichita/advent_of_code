{
 "cells": [
  {
   "cell_type": "code",
   "execution_count": 1,
   "id": "7b92d570-ee24-47fc-a3ed-e1426d81696d",
   "metadata": {},
   "outputs": [],
   "source": [
    "import os\n",
    "import re\n",
    "import json\n",
    "import pathlib\n",
    "from pathlib import Path\n",
    "import numpy as np\n",
    "import pandas as pd"
   ]
  },
  {
   "cell_type": "markdown",
   "id": "dcff7694-6e26-4650-a628-954c931fd695",
   "metadata": {},
   "source": [
    "## Part 1"
   ]
  },
  {
   "cell_type": "code",
   "execution_count": 12,
   "id": "59df25d2-a106-4680-87d1-7ed049c3c373",
   "metadata": {},
   "outputs": [],
   "source": [
    "cwd = Path.cwd()\n",
    "\n",
    "# read the input\n",
    "with open(cwd / \"input\" / \"input.txt\") as f:\n",
    "    s = f.read()\n",
    "\n",
    "# lines\n",
    "lines = s.split(\"\\n\")[:-1]\n",
    "\n",
    "# split into a target and sequence of numbers\n",
    "lines_split = [line.split(\":\") for line in lines]\n",
    "\n",
    "targets = [int(x[0]) for x in lines_split]\n",
    "numbers = [[int(n) for n in x[1].strip().split()] for x in lines_split]"
   ]
  },
  {
   "cell_type": "code",
   "execution_count": 18,
   "id": "32cf043d-e7ef-45e8-b8d4-19ff1354cfe6",
   "metadata": {},
   "outputs": [
    {
     "data": {
      "text/plain": [
       "5540634308362"
      ]
     },
     "execution_count": 18,
     "metadata": {},
     "output_type": "execute_result"
    }
   ],
   "source": [
    "def can_make_target(target, sequence):\n",
    "    values = set([sequence[0]])\n",
    "    for n in sequence[1:]:\n",
    "        values = set([x+n for x in values]).union(set([x*n for x in values]))\n",
    "    return target in values\n",
    "\n",
    "result = 0\n",
    "for target, sequence in zip(targets, numbers):\n",
    "   if can_make_target(target, sequence):\n",
    "       result += target\n",
    "result\n",
    "        "
   ]
  },
  {
   "cell_type": "markdown",
   "id": "d447ab53-6625-4157-b19e-bc43ac5dccbd",
   "metadata": {},
   "source": [
    "## Part 2"
   ]
  },
  {
   "cell_type": "code",
   "execution_count": 19,
   "id": "1d45e5d5-f55a-4f45-973a-c167f1f6d9ee",
   "metadata": {},
   "outputs": [
    {
     "data": {
      "text/plain": [
       "472290821152397"
      ]
     },
     "execution_count": 19,
     "metadata": {},
     "output_type": "execute_result"
    }
   ],
   "source": [
    "def can_make_target(target, sequence):\n",
    "    values = set([sequence[0]])\n",
    "    for n in sequence[1:]:\n",
    "        values = set([x+n for x in values]).union(set([x*n for x in values])).union(set([int(str(x) + str(n)) for x in values]))\n",
    "    return target in values\n",
    "\n",
    "result = 0\n",
    "for target, sequence in zip(targets, numbers):\n",
    "   if can_make_target(target, sequence):\n",
    "       result += target\n",
    "result\n",
    "        "
   ]
  },
  {
   "cell_type": "code",
   "execution_count": null,
   "id": "2088b2cf-a8fa-4eca-a89e-473758bad5fe",
   "metadata": {},
   "outputs": [],
   "source": []
  }
 ],
 "metadata": {
  "kernelspec": {
   "display_name": "Python 3 (ipykernel)",
   "language": "python",
   "name": "python3"
  },
  "language_info": {
   "codemirror_mode": {
    "name": "ipython",
    "version": 3
   },
   "file_extension": ".py",
   "mimetype": "text/x-python",
   "name": "python",
   "nbconvert_exporter": "python",
   "pygments_lexer": "ipython3",
   "version": "3.11.5"
  }
 },
 "nbformat": 4,
 "nbformat_minor": 5
}
