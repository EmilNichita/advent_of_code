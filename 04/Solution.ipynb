{
 "cells": [
  {
   "cell_type": "code",
   "execution_count": 2,
   "id": "717cb0e7-6fbd-49b1-a737-dbf71205d7f6",
   "metadata": {},
   "outputs": [],
   "source": [
    "import os\n",
    "import re\n",
    "import json\n",
    "import pathlib\n",
    "from pathlib import Path\n",
    "import numpy as np\n",
    "import pandas as pd"
   ]
  },
  {
   "cell_type": "code",
   "execution_count": 14,
   "id": "440ad3b2-5463-4ece-a4f2-3b5603728d22",
   "metadata": {},
   "outputs": [
    {
     "data": {
      "text/plain": [
       "array([['M', 'M', 'S', ..., 'M', 'M', 'S'],\n",
       "       ['A', 'A', 'S', ..., 'S', 'X', 'S'],\n",
       "       ['M', 'X', 'S', ..., 'S', 'A', 'S'],\n",
       "       ...,\n",
       "       ['S', 'X', 'M', ..., 'M', 'A', 'X'],\n",
       "       ['X', 'A', 'M', ..., 'S', 'M', 'X'],\n",
       "       ['S', 'X', 'M', ..., 'A', 'M', 'S']], dtype='<U1')"
      ]
     },
     "execution_count": 14,
     "metadata": {},
     "output_type": "execute_result"
    }
   ],
   "source": [
    "cwd = Path.cwd()\n",
    "\n",
    "# read the input\n",
    "with open(cwd / \"input\" / \"input.txt\") as f:\n",
    "    s = f.read()\n",
    "\n",
    "# split the input by lines, excluding the last empty one\n",
    "lines = s.split('\\n')[:-1]\n",
    "\n",
    "arr = np.array([list(x) for x in lines])\n",
    "arr"
   ]
  },
  {
   "cell_type": "markdown",
   "id": "c08b48db-aea7-4e28-81d9-805fd3a06851",
   "metadata": {},
   "source": [
    "## Part 1"
   ]
  },
  {
   "cell_type": "code",
   "execution_count": 27,
   "id": "809e4605-877b-46dd-ac4a-205d1721a3a0",
   "metadata": {},
   "outputs": [
    {
     "data": {
      "text/plain": [
       "2573"
      ]
     },
     "execution_count": 27,
     "metadata": {},
     "output_type": "execute_result"
    }
   ],
   "source": [
    "def count_xmas_from_pos(arr: np.array, i: int, j: int) -> int:\n",
    "    if arr[i, j] != 'X':\n",
    "        return 0\n",
    "\n",
    "    m, n = len(arr), len(arr[0])\n",
    "\n",
    "    count = 0\n",
    "\n",
    "    # check all directions (if possible) for \"XMAS\"\n",
    "    # up\n",
    "    if i-3>=0:\n",
    "        if \"\".join([arr[i-k, j] for k in range(4)]) == \"XMAS\":\n",
    "            count += 1\n",
    "\n",
    "    # up right\n",
    "    if i-3>=0 and j+3<n:\n",
    "        if \"\".join([arr[i-k, j+k] for k in range(4)]) == \"XMAS\":\n",
    "            count += 1\n",
    "\n",
    "    # right\n",
    "    if j+3<n:\n",
    "        if \"\".join([arr[i, j+k] for k in range(4)]) == \"XMAS\":\n",
    "            count += 1\n",
    "\n",
    "    # down right\n",
    "    if i+3<m and j+3<n:\n",
    "        if \"\".join([arr[i+k, j+k] for k in range(4)]) == \"XMAS\":\n",
    "            count += 1\n",
    "\n",
    "    # down\n",
    "    if i+3<m:\n",
    "        if \"\".join([arr[i+k, j] for k in range(4)]) == \"XMAS\":\n",
    "            count += 1\n",
    "\n",
    "    # down left\n",
    "    if i+3<m and j-3>=0:\n",
    "        if \"\".join([arr[i+k, j-k] for k in range(4)]) == \"XMAS\":\n",
    "            count += 1\n",
    "\n",
    "    # left\n",
    "    if j-3>=0:\n",
    "        if \"\".join([arr[i, j-k] for k in range(4)]) == \"XMAS\":\n",
    "            count += 1\n",
    "\n",
    "    # up left\n",
    "    if i-3>=0 and j-3>=0:\n",
    "        if \"\".join([arr[i-k, j-k] for k in range(4)]) == \"XMAS\":\n",
    "            count += 1\n",
    "\n",
    "    return count\n",
    "\n",
    "def count_all_xmas(arr: np.array) -> int:\n",
    "    m, n = len(arr), len(arr[0])\n",
    "\n",
    "    count = 0\n",
    "    for i in range(m):\n",
    "        for j in range(n):\n",
    "            count += count_xmas_from_pos(arr, i, j)\n",
    "\n",
    "    return count\n",
    "\n",
    "count_all_xmas(arr)"
   ]
  },
  {
   "cell_type": "markdown",
   "id": "33164bfc-4a73-4983-9ac1-d632e3d0a24f",
   "metadata": {},
   "source": [
    "## Part 2"
   ]
  },
  {
   "cell_type": "code",
   "execution_count": 30,
   "id": "630c8e61-1443-41b5-adfa-2267001c2bb3",
   "metadata": {},
   "outputs": [
    {
     "data": {
      "text/plain": [
       "1850"
      ]
     },
     "execution_count": 30,
     "metadata": {},
     "output_type": "execute_result"
    }
   ],
   "source": [
    "def count_mas_from_pos(arr: np.array, i: int, j: int) -> int:\n",
    "    if arr[i, j] != 'A':\n",
    "        return 0\n",
    "\n",
    "    m, n = len(arr), len(arr[0])\n",
    "\n",
    "    if i==0 or j ==0 or i==m-1 or j==n-1:\n",
    "        return 0\n",
    "\n",
    "    if set([arr[i-1][j-1], arr[i+1][j+1]]) != {'M', 'S'}:\n",
    "        return 0\n",
    "\n",
    "    if set([arr[i-1][j+1], arr[i+1][j-1]]) != {'M', 'S'}:\n",
    "        return 0\n",
    "\n",
    "    return 1\n",
    "\n",
    "def count_all_mas(arr: np.array) -> int:\n",
    "    m, n = len(arr), len(arr[0])\n",
    "\n",
    "    count = 0\n",
    "    for i in range(m):\n",
    "        for j in range(n):\n",
    "            count += count_mas_from_pos(arr, i, j)\n",
    "\n",
    "    return count\n",
    "\n",
    "count_all_mas(arr)"
   ]
  },
  {
   "cell_type": "code",
   "execution_count": null,
   "id": "336fba8d-76b6-441e-b59d-da97adebfff4",
   "metadata": {},
   "outputs": [],
   "source": []
  }
 ],
 "metadata": {
  "kernelspec": {
   "display_name": "Python 3 (ipykernel)",
   "language": "python",
   "name": "python3"
  },
  "language_info": {
   "codemirror_mode": {
    "name": "ipython",
    "version": 3
   },
   "file_extension": ".py",
   "mimetype": "text/x-python",
   "name": "python",
   "nbconvert_exporter": "python",
   "pygments_lexer": "ipython3",
   "version": "3.11.5"
  }
 },
 "nbformat": 4,
 "nbformat_minor": 5
}
