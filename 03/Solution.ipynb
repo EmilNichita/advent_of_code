{
 "cells": [
  {
   "cell_type": "code",
   "execution_count": 1,
   "id": "4efa1edb-95b4-46b8-8fac-e207233407c7",
   "metadata": {},
   "outputs": [],
   "source": [
    "import os\n",
    "import re\n",
    "import json\n",
    "import pathlib\n",
    "from pathlib import Path\n",
    "import numpy as np\n",
    "import pandas as pd"
   ]
  },
  {
   "cell_type": "markdown",
   "id": "3cd6a9d2-0f9c-4f70-9245-29ec2d13ec42",
   "metadata": {},
   "source": [
    "## Part 1"
   ]
  },
  {
   "cell_type": "code",
   "execution_count": 2,
   "id": "440ad3b2-5463-4ece-a4f2-3b5603728d22",
   "metadata": {},
   "outputs": [
    {
     "data": {
      "text/plain": [
       "188741603"
      ]
     },
     "execution_count": 2,
     "metadata": {},
     "output_type": "execute_result"
    }
   ],
   "source": [
    "cwd = Path.cwd()\n",
    "\n",
    "# read the input\n",
    "with open(cwd / \"input\" / \"input.txt\") as f:\n",
    "    s = f.read()\n",
    "\n",
    "# pattern to recognize the right commands\n",
    "mul_pattern = r\"mul\\(\\d{1,3},\\d{1,3}\\)\"\n",
    "\n",
    "# find all matches \n",
    "matches = re.findall(mul_pattern, s)\n",
    "\n",
    "# convert strings to pairs of number strings\n",
    "pairs = [x[4:-1].split(',') for x in matches]\n",
    "\n",
    "# compute the sum of the multiples\n",
    "result = sum(int(a)*int(b) for a, b in pairs)\n",
    "result"
   ]
  },
  {
   "cell_type": "markdown",
   "id": "01c4f96b-9394-4392-9a6b-93e7d6e13691",
   "metadata": {},
   "source": [
    "## Part 2"
   ]
  },
  {
   "cell_type": "code",
   "execution_count": 3,
   "id": "6fe58b74-27fc-4e41-94f5-d66130abcc70",
   "metadata": {},
   "outputs": [],
   "source": [
    "# find all matches again and their positions\n",
    "matches = re.finditer(mul_pattern, s)\n",
    "\n",
    "# Extract start position and length\n",
    "matches_mul = {m.start(): len(m.group()) for m in matches}\n",
    "\n",
    "# find all the positions for the do() and don't()\n",
    "pattern_do = r\"do\\(\\)\"\n",
    "pattern_dont = r\"don't\\(\\)\"\n",
    "\n",
    "# find matches for do()\n",
    "matches_do ={m.start(): len(m.group()) for m in re.finditer(pattern_do, s)}\n",
    "\n",
    "# find matches for don't()\n",
    "matches_dont = {m.start(): len(m.group()) for m in re.finditer(pattern_dont, s)}"
   ]
  },
  {
   "cell_type": "code",
   "execution_count": 4,
   "id": "45581422-54b2-4506-80f1-36c51d2add30",
   "metadata": {
    "scrolled": true
   },
   "outputs": [
    {
     "data": {
      "text/plain": [
       "67269798"
      ]
     },
     "execution_count": 4,
     "metadata": {},
     "output_type": "execute_result"
    }
   ],
   "source": [
    "# flag for activated muls\n",
    "mul_activated = True\n",
    "\n",
    "result = 0\n",
    "\n",
    "# go through each character in s, make sure do's and don't's switch the flag, and count the mults \n",
    "for i in range(len(s)):\n",
    "    if i in matches_do:\n",
    "        mul_activated = True\n",
    "    if i in matches_dont:\n",
    "        mul_activated = False\n",
    "    if mul_activated and i in matches_mul:\n",
    "        match_string = s[i:i+matches_mul[i]]\n",
    "        x, y = match_string[4:-1].split(',')\n",
    "        result += int(x) * int(y)\n",
    "result"
   ]
  },
  {
   "cell_type": "code",
   "execution_count": null,
   "id": "4ad8ef89-9e7b-4e59-98b1-48bbc6f9d8a5",
   "metadata": {},
   "outputs": [],
   "source": []
  }
 ],
 "metadata": {
  "kernelspec": {
   "display_name": "p311",
   "language": "python",
   "name": "p311"
  },
  "language_info": {
   "codemirror_mode": {
    "name": "ipython",
    "version": 3
   },
   "file_extension": ".py",
   "mimetype": "text/x-python",
   "name": "python",
   "nbconvert_exporter": "python",
   "pygments_lexer": "ipython3",
   "version": "3.11.5"
  }
 },
 "nbformat": 4,
 "nbformat_minor": 5
}
