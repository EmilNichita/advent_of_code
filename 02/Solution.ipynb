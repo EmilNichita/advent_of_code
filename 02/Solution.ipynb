{
 "cells": [
  {
   "cell_type": "code",
   "execution_count": 1,
   "id": "21b191fe-16a6-4401-87ee-3c26beceb13f",
   "metadata": {},
   "outputs": [],
   "source": [
    "import os\n",
    "import json\n",
    "import pathlib\n",
    "from pathlib import Path\n",
    "import numpy as np\n",
    "import pandas as pd"
   ]
  },
  {
   "cell_type": "markdown",
   "id": "20d3a196-f9d5-4b85-a798-fe10b91bab9b",
   "metadata": {},
   "source": [
    "## Part 1"
   ]
  },
  {
   "cell_type": "code",
   "execution_count": 2,
   "id": "0dcdefd6-336d-40a1-ba03-020e96dbf2a1",
   "metadata": {},
   "outputs": [],
   "source": [
    "cwd = Path.cwd()\n",
    "\n",
    "# read the input\n",
    "with open(cwd / \"input\" / \"input.txt\") as f:\n",
    "    s = f.read()\n",
    "\n",
    "# split the input by lines, excluding the last empty one\n",
    "# each is if the form \"77317123       1873811312\"\n",
    "lines = s.split('\\n')[:-1]\n",
    "\n",
    "# convert lines to [\"77317123\", \"1873811312\"]\n",
    "reports = [[int(c) for c in x.split()] for x in lines]"
   ]
  },
  {
   "cell_type": "code",
   "execution_count": 3,
   "id": "c384f691-daee-41bf-8534-77b4cb740e51",
   "metadata": {},
   "outputs": [
    {
     "data": {
      "text/plain": [
       "591"
      ]
     },
     "execution_count": 3,
     "metadata": {},
     "output_type": "execute_result"
    }
   ],
   "source": [
    "# function to check a report\n",
    "def check_report(report: list[int]):\n",
    "    is_increasing = None\n",
    "    for i in range(1, len(report)):\n",
    "        if abs(report[i] - report[i-1]) not in [1, 2, 3]:\n",
    "            return False\n",
    "        if report[i] > report[i-1]:\n",
    "            if is_increasing is None:\n",
    "                is_increasing = True\n",
    "            else:\n",
    "                if not is_increasing:\n",
    "                    return False\n",
    "        else:\n",
    "            if is_increasing is None:\n",
    "                is_increasing = False\n",
    "            else:\n",
    "                if is_increasing:\n",
    "                    return False\n",
    "    return True\n",
    "\n",
    "# count the number of correct reports\n",
    "report_checks = [check_report(report) for report in reports]\n",
    "sum(report_checks)"
   ]
  },
  {
   "cell_type": "markdown",
   "id": "ef10ecf1-1628-42d9-8b89-4b230579d2ee",
   "metadata": {},
   "source": [
    "## Part 2"
   ]
  },
  {
   "cell_type": "code",
   "execution_count": 4,
   "id": "b2833dd2-f3d1-462d-b998-57dd170016ec",
   "metadata": {},
   "outputs": [],
   "source": [
    "def check_report_updated(report: list[int], tolerate_level: int = 1):\n",
    "    brute_force_check = check_report(report)\n",
    "    for i in range(0, len(report)):\n",
    "        if brute_force_check:\n",
    "            return True\n",
    "        brute_force_check = check_report(report[:i] + report[i+1:])\n",
    "    return brute_force_check"
   ]
  },
  {
   "cell_type": "code",
   "execution_count": 5,
   "id": "090a4acb-3ba3-4b93-b154-43d55a8711be",
   "metadata": {},
   "outputs": [
    {
     "data": {
      "text/plain": [
       "621"
      ]
     },
     "execution_count": 5,
     "metadata": {},
     "output_type": "execute_result"
    }
   ],
   "source": [
    "# count the number of correct reports now\n",
    "report_checks = [check_report_updated(report) for report in reports]\n",
    "sum(report_checks)"
   ]
  }
 ],
 "metadata": {
  "kernelspec": {
   "display_name": "Python 3 (ipykernel)",
   "language": "python",
   "name": "python3"
  },
  "language_info": {
   "codemirror_mode": {
    "name": "ipython",
    "version": 3
   },
   "file_extension": ".py",
   "mimetype": "text/x-python",
   "name": "python",
   "nbconvert_exporter": "python",
   "pygments_lexer": "ipython3",
   "version": "3.11.5"
  }
 },
 "nbformat": 4,
 "nbformat_minor": 5
}
