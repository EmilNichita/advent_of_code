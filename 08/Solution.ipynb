{
 "cells": [
  {
   "cell_type": "code",
   "execution_count": 1,
   "id": "7b92d570-ee24-47fc-a3ed-e1426d81696d",
   "metadata": {},
   "outputs": [],
   "source": [
    "import os\n",
    "import re\n",
    "import json\n",
    "import pathlib\n",
    "from pathlib import Path\n",
    "import numpy as np\n",
    "import pandas as pd"
   ]
  },
  {
   "cell_type": "markdown",
   "id": "dcff7694-6e26-4650-a628-954c931fd695",
   "metadata": {},
   "source": [
    "## Part 1"
   ]
  },
  {
   "cell_type": "code",
   "execution_count": 2,
   "id": "59df25d2-a106-4680-87d1-7ed049c3c373",
   "metadata": {},
   "outputs": [],
   "source": [
    "cwd = Path.cwd()\n",
    "\n",
    "# read the input\n",
    "with open(cwd / \"input\" / \"input.txt\") as f:\n",
    "    s = f.read()\n",
    "\n",
    "# lines\n",
    "lines = s.split(\"\\n\")[:-1]\n",
    "\n",
    "# array from lines\n",
    "array = np.array([list(line) for line in lines])\n",
    "m, n = array.shape"
   ]
  },
  {
   "cell_type": "code",
   "execution_count": 3,
   "id": "2088b2cf-a8fa-4eca-a89e-473758bad5fe",
   "metadata": {},
   "outputs": [
    {
     "data": {
      "text/plain": [
       "[(45, 17), (46, 4), (48, 1), (49, 20)]"
      ]
     },
     "execution_count": 3,
     "metadata": {},
     "output_type": "execute_result"
    }
   ],
   "source": [
    "# make a dictionary of identical frequency antennas\n",
    "antennas = {}\n",
    "for i in range(m):\n",
    "    for j in range(n):\n",
    "        c = array[i][j]\n",
    "        if c != '.':\n",
    "            if c not in antennas:\n",
    "                antennas[c] = [(i, j)]\n",
    "            else:\n",
    "                antennas[c].append((i, j))\n",
    "antennas['B']"
   ]
  },
  {
   "cell_type": "code",
   "execution_count": 4,
   "id": "d52f4831-3946-4d05-8798-1acc90247ff2",
   "metadata": {},
   "outputs": [
    {
     "data": {
      "text/plain": [
       "{'5': [(0, 8), (32, 31), (33, 27), (39, 40)],\n",
       " 'e': [(0, 43), (1, 36), (2, 44), (15, 27)],\n",
       " '3': [(0, 46), (21, 45), (29, 48), (42, 23)],\n",
       " 'q': [(1, 7), (6, 4), (13, 2)],\n",
       " 'm': [(1, 19), (2, 4), (4, 3)],\n",
       " 'C': [(3, 41), (35, 18), (40, 17), (42, 22)],\n",
       " 'u': [(4, 1), (17, 3), (19, 8), (22, 6)],\n",
       " '8': [(4, 28), (5, 26), (13, 35)],\n",
       " '7': [(5, 11), (24, 9), (28, 16), (29, 10)],\n",
       " '9': [(5, 18), (10, 10), (14, 7), (31, 47)],\n",
       " 'F': [(5, 38), (10, 31), (15, 47)],\n",
       " 's': [(5, 42), (6, 35), (15, 31), (34, 26)],\n",
       " '6': [(6, 0), (15, 5)],\n",
       " 'M': [(11, 33), (37, 44), (40, 39), (46, 46)],\n",
       " 'D': [(11, 38), (16, 37), (24, 40), (27, 45)],\n",
       " 'U': [(12, 9), (24, 14), (27, 22), (35, 5)],\n",
       " '0': [(15, 0), (17, 1), (22, 9)],\n",
       " 'Q': [(15, 30), (16, 33), (19, 25), (24, 34)],\n",
       " '2': [(17, 40), (25, 43), (32, 48), (40, 41)],\n",
       " 'E': [(20, 5), (26, 0), (27, 3), (39, 2)],\n",
       " '1': [(20, 14), (25, 15), (27, 12), (38, 27)],\n",
       " 'n': [(21, 3), (25, 14), (28, 7), (32, 2)],\n",
       " 'v': [(21, 8), (28, 11), (32, 6), (33, 9)],\n",
       " 'N': [(22, 26), (28, 21), (29, 13), (47, 38)],\n",
       " 'z': [(23, 44), (26, 45), (39, 47)],\n",
       " '4': [(24, 24), (31, 12), (35, 15), (38, 11)],\n",
       " 'Z': [(24, 30), (27, 14), (28, 17), (29, 19)],\n",
       " 'V': [(24, 46), (30, 45), (35, 43), (47, 42)],\n",
       " 'f': [(25, 25), (26, 30), (29, 20)],\n",
       " 'b': [(30, 32), (37, 31), (38, 33), (49, 36)],\n",
       " 'S': [(33, 37), (35, 40), (38, 39), (40, 38)],\n",
       " 'c': [(37, 22), (38, 14), (39, 11), (42, 15)],\n",
       " 'W': [(38, 13), (43, 20), (46, 10), (47, 15)],\n",
       " 'd': [(38, 19), (41, 24), (45, 9), (46, 18)],\n",
       " 'w': [(40, 14), (43, 15), (45, 22), (46, 19)],\n",
       " 'B': [(45, 17), (46, 4), (48, 1), (49, 20)]}"
      ]
     },
     "execution_count": 4,
     "metadata": {},
     "output_type": "execute_result"
    }
   ],
   "source": [
    "antennas"
   ]
  },
  {
   "cell_type": "code",
   "execution_count": 5,
   "id": "a6898a9e-6385-474c-8510-a7e744257cbf",
   "metadata": {},
   "outputs": [
    {
     "data": {
      "text/plain": [
       "228"
      ]
     },
     "execution_count": 5,
     "metadata": {},
     "output_type": "execute_result"
    }
   ],
   "source": [
    "antinode_positions = [] \n",
    "\n",
    "for positions in antennas.values():\n",
    "    for i in range(len(positions) - 1):\n",
    "        for j in range(i+1, len(positions)):\n",
    "            # compute the two antinodes for these - might be outside the area\n",
    "            antinode_positions.append((2*positions[i][0] - positions[j][0], 2*positions[i][1] - positions[j][1]))\n",
    "            antinode_positions.append((2*positions[j][0] - positions[i][0], 2*positions[j][1] - positions[i][1]))\n",
    "\n",
    "antinode_positions = set(antinode_positions)\n",
    "\n",
    "# filter bad ones:\n",
    "counter = 0\n",
    "for x, y in antinode_positions:\n",
    "    if (x>=0) and (y>=0) and (x<m) and (y<n):\n",
    "        counter += 1\n",
    "counter"
   ]
  },
  {
   "cell_type": "markdown",
   "id": "de0bb312-3a56-4d40-a385-8729eda712bd",
   "metadata": {},
   "source": [
    "## Part 2"
   ]
  },
  {
   "cell_type": "code",
   "execution_count": 9,
   "id": "57dccbf4-dbce-4e41-b578-662db11d6e00",
   "metadata": {},
   "outputs": [
    {
     "data": {
      "text/plain": [
       "766"
      ]
     },
     "execution_count": 9,
     "metadata": {},
     "output_type": "execute_result"
    }
   ],
   "source": [
    "antinode_positions = [] \n",
    "\n",
    "for positions in antennas.values():\n",
    "    for i in range(len(positions)):\n",
    "        for j in range(len(positions)):\n",
    "            if i == j:\n",
    "                continue\n",
    "            # compute the many antinodes from the modified rules\n",
    "            dx, dy = positions[i][0] - positions[j][0], positions[i][1] - positions[j][1]\n",
    "\n",
    "            curr_i, curr_j = positions[i][0], positions[i][1]\n",
    "            while curr_i >= 0 and curr_j >= 0 and curr_i < m and curr_j < n:\n",
    "                antinode_positions.append((curr_i, curr_j))\n",
    "                curr_i, curr_j = curr_i + dx, curr_j + dy\n",
    "\n",
    "            curr_i, curr_j = positions[i][0], positions[i][1]\n",
    "            while curr_i >= 0 and curr_j >= 0 and curr_i < m and curr_j < n:\n",
    "                antinode_positions.append((curr_i, curr_j))\n",
    "                curr_i, curr_j = curr_i - dx, curr_j - dy\n",
    "\n",
    "antinode_positions = set(antinode_positions)\n",
    "\n",
    "# filter bad ones:\n",
    "counter = 0\n",
    "for x, y in antinode_positions:\n",
    "    if (x>=0) and (y>=0) and (x<m) and (y<n):\n",
    "        counter += 1\n",
    "counter"
   ]
  }
 ],
 "metadata": {
  "kernelspec": {
   "display_name": "Python 3 (ipykernel)",
   "language": "python",
   "name": "python3"
  },
  "language_info": {
   "codemirror_mode": {
    "name": "ipython",
    "version": 3
   },
   "file_extension": ".py",
   "mimetype": "text/x-python",
   "name": "python",
   "nbconvert_exporter": "python",
   "pygments_lexer": "ipython3",
   "version": "3.11.5"
  }
 },
 "nbformat": 4,
 "nbformat_minor": 5
}
