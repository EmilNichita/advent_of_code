{
 "cells": [
  {
   "cell_type": "code",
   "execution_count": 1,
   "id": "94521b47-9dba-4887-b02f-43f4baa5f53d",
   "metadata": {},
   "outputs": [],
   "source": [
    "import os\n",
    "import re\n",
    "import json\n",
    "import pathlib\n",
    "from pathlib import Path\n",
    "import numpy as np\n",
    "import pandas as pd"
   ]
  },
  {
   "cell_type": "markdown",
   "id": "ff081d87-a54e-470e-8f67-e208f2cd1900",
   "metadata": {},
   "source": [
    "## Part 1"
   ]
  },
  {
   "cell_type": "code",
   "execution_count": 2,
   "id": "540aa92c-547d-4b31-8ff9-0d4f2fb4e895",
   "metadata": {},
   "outputs": [],
   "source": [
    "cwd = Path.cwd()\n",
    "\n",
    "# read the input\n",
    "with open(cwd / \"input\" / \"input.txt\") as f:\n",
    "    s = f.read()\n",
    "\n",
    "# lines\n",
    "lines = s.split(\"\\n\")[:-1]\n",
    "\n",
    "rules = [line for line in lines if \"|\" in line]\n",
    "updates = [line for line in lines if \"|\" not in line][1:]"
   ]
  },
  {
   "cell_type": "code",
   "execution_count": 3,
   "id": "789ea496-b04b-4e76-8800-34f13c0e616e",
   "metadata": {},
   "outputs": [],
   "source": [
    "rules_processed = [(int(rule.split(\"|\")[0]), int(rule.split(\"|\")[1])) for rule in rules]\n",
    "# this dict is of the form a -> [b, c, d] iff a|b, a|c and a|d are in the rules\n",
    "rule_dict = {}\n",
    "for pair in rules_processed:\n",
    "    if pair[0] in rule_dict:\n",
    "        rule_dict[pair[0]].append(pair[1])\n",
    "    else:\n",
    "        rule_dict[pair[0]] = [pair[1]]\n",
    "\n",
    "update_list = [[int(x) for x in update.split(\",\")] for update in updates]"
   ]
  },
  {
   "cell_type": "code",
   "execution_count": 4,
   "id": "790f1840-1d45-4c28-b432-07d9c259bb70",
   "metadata": {},
   "outputs": [],
   "source": [
    "correct_mask = []\n",
    "\n",
    "for update in update_list:\n",
    "    is_correct = True\n",
    "    n = len(update)\n",
    "    for i in range(n):\n",
    "        for j in range(i+1, n):\n",
    "            if update[i] in rule_dict.get(update[j], []):\n",
    "                is_correct = False\n",
    "    correct_mask.append(is_correct)"
   ]
  },
  {
   "cell_type": "code",
   "execution_count": 5,
   "id": "63da1ec0-6143-4098-94a4-4721973dab26",
   "metadata": {},
   "outputs": [
    {
     "data": {
      "text/plain": [
       "5084"
      ]
     },
     "execution_count": 5,
     "metadata": {},
     "output_type": "execute_result"
    }
   ],
   "source": [
    "result = 0\n",
    "for i in range(len(update_list)):\n",
    "    if correct_mask[i]:\n",
    "        result += update[len(update) // 2]\n",
    "result"
   ]
  },
  {
   "cell_type": "markdown",
   "id": "ffd431c9-048e-4581-b9bb-4ec17e3e1611",
   "metadata": {},
   "source": [
    "## Part 2"
   ]
  },
  {
   "cell_type": "code",
   "execution_count": 6,
   "id": "c0398eb5-60af-491f-b6fc-40619f3d60ad",
   "metadata": {},
   "outputs": [
    {
     "data": {
      "text/plain": [
       "7380"
      ]
     },
     "execution_count": 6,
     "metadata": {},
     "output_type": "execute_result"
    }
   ],
   "source": [
    "def sort_update(update: list[int], rule_dict: dict) -> list:\n",
    "    new_update = [x for x in update]\n",
    "    for i in range(len(update)):\n",
    "        for j in range(i+1, len(new_update)):\n",
    "            if new_update[i] in rule_dict.get(new_update[j], []):\n",
    "                new_update[i], new_update[j] = new_update[j], new_update[i]\n",
    "    return new_update\n",
    "\n",
    "result = 0\n",
    "for update, is_correct in zip(update_list, correct_mask):\n",
    "    if not is_correct:\n",
    "        new_update = sort_update(update, rule_dict)\n",
    "        result += new_update[len(new_update) // 2]\n",
    "result"
   ]
  },
  {
   "cell_type": "code",
   "execution_count": null,
   "id": "f76cc6b2-c5c3-4c36-9a49-336f8962c8ab",
   "metadata": {},
   "outputs": [],
   "source": []
  }
 ],
 "metadata": {
  "kernelspec": {
   "display_name": "Python 3 (ipykernel)",
   "language": "python",
   "name": "python3"
  },
  "language_info": {
   "codemirror_mode": {
    "name": "ipython",
    "version": 3
   },
   "file_extension": ".py",
   "mimetype": "text/x-python",
   "name": "python",
   "nbconvert_exporter": "python",
   "pygments_lexer": "ipython3",
   "version": "3.11.5"
  }
 },
 "nbformat": 4,
 "nbformat_minor": 5
}
